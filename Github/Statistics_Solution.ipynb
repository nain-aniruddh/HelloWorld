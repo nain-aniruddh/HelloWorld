{
  "nbformat": 4,
  "nbformat_minor": 0,
  "metadata": {
    "colab": {
      "name": "Statistics_Solution.ipynb",
      "provenance": [],
      "collapsed_sections": []
    },
    "kernelspec": {
      "display_name": "Python 3",
      "language": "python",
      "name": "python3"
    },
    "language_info": {
      "codemirror_mode": {
        "name": "ipython",
        "version": 3
      },
      "file_extension": ".py",
      "mimetype": "text/x-python",
      "name": "python",
      "nbconvert_exporter": "python",
      "pygments_lexer": "ipython3",
      "version": "3.5.2"
    }
  },
  "cells": [
    {
      "cell_type": "markdown",
      "metadata": {
        "id": "RZlIajs8fRLR"
      },
      "source": [
        "##  Learning Objectives"
      ]
    },
    {
      "cell_type": "markdown",
      "metadata": {
        "id": "abYbtTdhfT7w"
      },
      "source": [
        "At the end of the experiment, you will be able to :\n",
        "\n",
        "- use the basic probability rules, terms, independent and mutually exclusive events\n",
        "- understand the measures of Centre and Spread, Correlation, Normalization, Standardization terms\n",
        "- perform statistics and probability related operations using Python"
      ]
    },
    {
      "cell_type": "markdown",
      "metadata": {
        "id": "vgfm52RHycRL"
      },
      "source": [
        "#### Exercise 1: Import the numpy package under the name np"
      ]
    },
    {
      "cell_type": "code",
      "metadata": {
        "id": "ahPzhfvreCPi"
      },
      "source": [
        "import numpy as np"
      ],
      "execution_count": null,
      "outputs": []
    },
    {
      "cell_type": "markdown",
      "metadata": {
        "id": "3LTru3Nuy_6x"
      },
      "source": [
        "#### Exercise 2: Import the scipy package under the name sp"
      ]
    },
    {
      "cell_type": "code",
      "metadata": {
        "id": "pA9KLlfAy_YY"
      },
      "source": [
        "import scipy as sp"
      ],
      "execution_count": null,
      "outputs": []
    },
    {
      "cell_type": "markdown",
      "metadata": {
        "id": "EpGYcO-eyafi"
      },
      "source": [
        "#### Exercise 3: Five people play golf and at one hole their scores are \n",
        "\n",
        "                      3, 4, 4, 5, 7. \n",
        "\n",
        "For these scores, find Mean, Median, Mode"
      ]
    },
    {
      "cell_type": "code",
      "metadata": {
        "id": "8j3r20s0yafi"
      },
      "source": [
        "l = [3, 4, 4, 5, 7]"
      ],
      "execution_count": null,
      "outputs": []
    },
    {
      "cell_type": "code",
      "metadata": {
        "id": "GzSGFjDtyafi",
        "colab": {
          "base_uri": "https://localhost:8080/"
        },
        "outputId": "e3d7b50e-a41a-4d5a-8891-62435bb011c0"
      },
      "source": [
        "np.mean(l)"
      ],
      "execution_count": null,
      "outputs": [
        {
          "output_type": "execute_result",
          "data": {
            "text/plain": [
              "4.6"
            ]
          },
          "metadata": {
            "tags": []
          },
          "execution_count": 4
        }
      ]
    },
    {
      "cell_type": "code",
      "metadata": {
        "id": "ENm69ZiOyafj",
        "colab": {
          "base_uri": "https://localhost:8080/"
        },
        "outputId": "cf2f018b-b6ad-44e5-9fb8-d44c7c581d33"
      },
      "source": [
        "np.median(l)"
      ],
      "execution_count": null,
      "outputs": [
        {
          "output_type": "execute_result",
          "data": {
            "text/plain": [
              "4.0"
            ]
          },
          "metadata": {
            "tags": []
          },
          "execution_count": 5
        }
      ]
    },
    {
      "cell_type": "code",
      "metadata": {
        "id": "M85N6ecYyafj",
        "colab": {
          "base_uri": "https://localhost:8080/"
        },
        "outputId": "90d37322-a29b-4a58-f804-53a659503810"
      },
      "source": [
        "from scipy import stats\n",
        "stats.mode(l)"
      ],
      "execution_count": null,
      "outputs": [
        {
          "output_type": "execute_result",
          "data": {
            "text/plain": [
              "ModeResult(mode=array([4]), count=array([2]))"
            ]
          },
          "metadata": {
            "tags": []
          },
          "execution_count": 6
        }
      ]
    },
    {
      "cell_type": "markdown",
      "metadata": {
        "id": "BEjvS-SZyafj"
      },
      "source": [
        "#### Exercise 4: You grow 20 crystals from a solution and measure the length of each crystal in millimeters. Here is your data:\n",
        "\n",
        "9, 2, 5, 4, 12, 7, 8, 11, 9, 3, 7, 4, 12, 5, 4, 10, 9, 6, 9, 4\n",
        "\n",
        "Calculate the standard deviation of the length of the crystals."
      ]
    },
    {
      "cell_type": "code",
      "metadata": {
        "id": "1-m-Z4zFyafk",
        "colab": {
          "base_uri": "https://localhost:8080/"
        },
        "outputId": "ee1f8de9-0850-4189-c7d1-e36f7091a7dc"
      },
      "source": [
        "k = [9, 2, 5, 4, 12, 7, 8, 11, 9, 3, 7, 4, 12, 5, 4, 10, 9, 6, 9, 4]\n",
        "np.std(k)"
      ],
      "execution_count": null,
      "outputs": [
        {
          "output_type": "execute_result",
          "data": {
            "text/plain": [
              "2.9832867780352594"
            ]
          },
          "metadata": {
            "tags": []
          },
          "execution_count": 7
        }
      ]
    },
    {
      "cell_type": "markdown",
      "metadata": {
        "id": "mWbK_FKjyafk"
      },
      "source": [
        "#### Exercise 5: \n",
        "\n",
        "Given below DataFrame\n",
        "\n",
        "data = pd.DataFrame({'salaries': \n",
        "                     \n",
        "                     [33219, 36254, 38801, 46335, 46840, \n",
        "                      47596, 55130, 56863, 78070, 88830]})\n",
        "\n",
        "Calculate the variance of salaries"
      ]
    },
    {
      "cell_type": "code",
      "metadata": {
        "id": "Tm3bXcmbyafk"
      },
      "source": [
        "import pandas as pd\n",
        "data = pd.DataFrame({'salaries': [33219, 36254, 38801, 46335, 46840, 47596, 55130, 56863, 78070, 88830]})"
      ],
      "execution_count": null,
      "outputs": []
    },
    {
      "cell_type": "code",
      "metadata": {
        "id": "fr0XXB6Kyafl",
        "colab": {
          "base_uri": "https://localhost:8080/"
        },
        "outputId": "fcde97e8-cbe2-4722-e9ee-50eff38fa87f"
      },
      "source": [
        "data.salaries.mean() "
      ],
      "execution_count": null,
      "outputs": [
        {
          "output_type": "execute_result",
          "data": {
            "text/plain": [
              "52793.8"
            ]
          },
          "metadata": {
            "tags": []
          },
          "execution_count": 9
        }
      ]
    },
    {
      "cell_type": "code",
      "metadata": {
        "id": "Ug1SUXz_yafl",
        "colab": {
          "base_uri": "https://localhost:8080/"
        },
        "outputId": "4fe69010-dfdb-49c7-b72d-24b1cf03c0ab"
      },
      "source": [
        "np.mean(data.salaries.values)"
      ],
      "execution_count": null,
      "outputs": [
        {
          "output_type": "execute_result",
          "data": {
            "text/plain": [
              "52793.8"
            ]
          },
          "metadata": {
            "tags": []
          },
          "execution_count": 10
        }
      ]
    },
    {
      "cell_type": "code",
      "metadata": {
        "id": "vwaTwBJPyafl",
        "colab": {
          "base_uri": "https://localhost:8080/"
        },
        "outputId": "0746584a-664d-4c2e-85ae-b5d7ed61aa38"
      },
      "source": [
        "data.salaries.var()"
      ],
      "execution_count": null,
      "outputs": [
        {
          "output_type": "execute_result",
          "data": {
            "text/plain": [
              "324025267.0666667"
            ]
          },
          "metadata": {
            "tags": []
          },
          "execution_count": 11
        }
      ]
    },
    {
      "cell_type": "code",
      "metadata": {
        "id": "wIa6-LoHyafl",
        "colab": {
          "base_uri": "https://localhost:8080/"
        },
        "outputId": "0c3f620e-ac0d-44ee-f33d-364460ef3859"
      },
      "source": [
        "np.var(data.salaries.values)"
      ],
      "execution_count": null,
      "outputs": [
        {
          "output_type": "execute_result",
          "data": {
            "text/plain": [
              "291622740.36"
            ]
          },
          "metadata": {
            "tags": []
          },
          "execution_count": 12
        }
      ]
    },
    {
      "cell_type": "markdown",
      "metadata": {
        "id": "on0yBhMDyafm"
      },
      "source": [
        "#### Exercise 6: Five people play golf and at one hole their scores are \n",
        "\n",
        "                      3, 4, 4, 5, 7. \n",
        "\n",
        "For these scores, find Harmonic and Geometric mean\n",
        "\n",
        "**Hint:** To know more about Harmonic and Geometric mean click\n",
        "  [here](https://medium.com/@sharmi.v.murali/arithmetic-mean-vs-geometric-mean-vs-harmonic-mean-b956cf1b2b3f)"
      ]
    },
    {
      "cell_type": "code",
      "metadata": {
        "id": "6d41vgr0yafm",
        "colab": {
          "base_uri": "https://localhost:8080/"
        },
        "outputId": "0619bb56-0c92-480c-afc1-614e2949110f"
      },
      "source": [
        "l = [3, 4, 4, 5, 7]\n",
        "from scipy.stats import gmean, hmean\n",
        "gmean(l)\n",
        "hmean(l)"
      ],
      "execution_count": null,
      "outputs": [
        {
          "output_type": "execute_result",
          "data": {
            "text/plain": [
              "4.251012145748988"
            ]
          },
          "metadata": {
            "tags": []
          },
          "execution_count": 13
        }
      ]
    },
    {
      "cell_type": "markdown",
      "metadata": {
        "id": "gARq9y-6yafm"
      },
      "source": [
        "#### Exercise 7: Given a DataFrame\n",
        "\n",
        "df = pd.DataFrame({\n",
        "  \n",
        "                  'Name': ['Dan', 'Joann', 'Pedro', 'Rosie', 'Ethan', 'Vicky', 'Frederic'],\n",
        "                   \n",
        "                   'Salary':[50000,54000,50000,189000,55000,40000,59000],\n",
        "                   \n",
        "                   'Hours':[41,40,36,17,35,39,40],\n",
        "                   \n",
        "                   'Experience(In Years)':[2, 2, 3, 7, 5 2, 4]})\n",
        "\n",
        "Calculate the correlation between *Salary* and *Experience(In Years)*"
      ]
    },
    {
      "cell_type": "code",
      "metadata": {
        "id": "5uUlGsEfyafn",
        "colab": {
          "base_uri": "https://localhost:8080/"
        },
        "outputId": "420d9c9f-650c-4c7c-9f60-944aa2e160a8"
      },
      "source": [
        "df = pd.DataFrame({'Name': ['Dan', 'Joann', 'Pedro', 'Rosie', 'Ethan', 'Vicky', 'Frederic'],\n",
        "                   'Salary':[50000,54000,50000,189000,55000,40000,59000],\n",
        "                   'Hours':[41,40,36,17,35,39,40],\n",
        "                   'Experience(In Years)':[2, 2, 3, 7, 5, 2, 4]})\n",
        "\n",
        "# Calculate the correlation between *Salary* and *Experience(In Years)*\n",
        "print(df['Experience(In Years)'].corr(df['Salary']))"
      ],
      "execution_count": null,
      "outputs": [
        {
          "output_type": "stream",
          "text": [
            "0.8314219298762264\n"
          ],
          "name": "stdout"
        }
      ]
    },
    {
      "cell_type": "markdown",
      "metadata": {
        "id": "rU2SdVdfyafo"
      },
      "source": [
        "#### Exercise 8: Given a DataFrame\n",
        "\n",
        "df = pd.DataFrame({\n",
        "  \n",
        "                  'Name': ['Dan', 'Joann', 'Pedro', 'Rosie', 'Ethan', 'Vicky', 'Frederic'],\n",
        "                   \n",
        "                   'Salary':[50000,54000,50000,189000,55000,40000,59000],\n",
        "                   \n",
        "                   'Hours':[41,40,36,17,35,39,40],\n",
        "                   \n",
        "                   'Experience(In Years)':[2, 2, 3, 7, 5 2, 4]})\n",
        "\n",
        "Calculate the correlation between *Experience(In Years)* and *Hours*."
      ]
    },
    {
      "cell_type": "code",
      "metadata": {
        "id": "HRZYM8inyafo",
        "colab": {
          "base_uri": "https://localhost:8080/"
        },
        "outputId": "8a779d85-52d4-448c-b6b3-b5c960811239"
      },
      "source": [
        "r = df['Experience(In Years)'].corr(df['Hours'])\n",
        "print('Correlation: ' + str(r))"
      ],
      "execution_count": null,
      "outputs": [
        {
          "output_type": "stream",
          "text": [
            "Correlation: -0.8706982869444648\n"
          ],
          "name": "stdout"
        }
      ]
    },
    {
      "cell_type": "markdown",
      "metadata": {
        "id": "dsJ8n6Nayafp"
      },
      "source": [
        "#### Exercise 9: Given a DataFrame\n",
        "\n",
        "df = pd.DataFrame({\n",
        "  \n",
        "                  'Name': ['Dan', 'Joann', 'Pedro', 'Rosie', 'Ethan', 'Vicky', 'Frederic'],\n",
        "                   \n",
        "                   'Salary':[50000,54000,50000,189000,55000,40000,59000],\n",
        "                   \n",
        "                   'Hours':[41,40,36,17,35,39,40],\n",
        "                   \n",
        "                   'Experience(In Years)':[2, 2, 3, 7, 5 2, 4]})\n",
        "\n",
        "Calculate the percentile score for Experience(In Years)\n"
      ]
    },
    {
      "cell_type": "code",
      "metadata": {
        "colab": {
          "base_uri": "https://localhost:8080/"
        },
        "id": "ed6ePinB3OSq",
        "outputId": "7efbf60d-fdff-4f32-d876-c917c66dedb7"
      },
      "source": [
        "stats.percentileofscore?"
      ],
      "execution_count": null,
      "outputs": [
        {
          "output_type": "stream",
          "text": [
            "Object `stats.percentileofscore` not found.\n"
          ],
          "name": "stdout"
        }
      ]
    },
    {
      "cell_type": "code",
      "metadata": {
        "id": "7PQ4nE88yafp",
        "colab": {
          "base_uri": "https://localhost:8080/"
        },
        "outputId": "8c711352-fabe-4364-86ac-a25e5a321cce"
      },
      "source": [
        "print(stats.percentileofscore(df['Experience(In Years)'], 57, 'strict'))"
      ],
      "execution_count": null,
      "outputs": [
        {
          "output_type": "stream",
          "text": [
            "100.0\n"
          ],
          "name": "stdout"
        }
      ]
    },
    {
      "cell_type": "markdown",
      "metadata": {
        "id": "iW7_fE6myafp"
      },
      "source": [
        "#### Exercise 10: Given a DataFrame\n",
        "\n",
        "df = pd.DataFrame({\n",
        "  \n",
        "                  'Name': ['Dan', 'Joann', 'Pedro', 'Rosie', 'Ethan', 'Vicky', 'Frederic'],\n",
        "                   \n",
        "                   'Salary':[50000,54000,50000,189000,55000,40000,59000],\n",
        "                   \n",
        "                   'Hours':[41,40,36,17,35,39,40],\n",
        "                   \n",
        "                   'Experience(In Years)':[2, 2, 3, 7, 5 2, 4]})\n",
        "\n",
        "Find the quartile thresholds for the weekly hours worked by the employees"
      ]
    },
    {
      "cell_type": "code",
      "metadata": {
        "id": "LV9IB79_yafq",
        "colab": {
          "base_uri": "https://localhost:8080/"
        },
        "outputId": "b5b4e289-2533-4a20-d7ee-c73e28d4fb5d"
      },
      "source": [
        "print(df['Hours'].quantile([0.25, 0.5, 0.75]))"
      ],
      "execution_count": null,
      "outputs": [
        {
          "output_type": "stream",
          "text": [
            "0.25    35.5\n",
            "0.50    39.0\n",
            "0.75    40.0\n",
            "Name: Hours, dtype: float64\n"
          ],
          "name": "stdout"
        }
      ]
    },
    {
      "cell_type": "markdown",
      "metadata": {
        "id": "jy_25fToyafr"
      },
      "source": [
        "#### Exercise 11: Given a DataFrame\n",
        "\n",
        "a = np.random.normal(40, 10, 10000)\n",
        "\n",
        "norm = pd.DataFrame({'nums':a})\n",
        "\n",
        "Describe distribution of the data using skewness and kurtosis metrics."
      ]
    },
    {
      "cell_type": "code",
      "metadata": {
        "id": "A25iNGQSyafr",
        "colab": {
          "base_uri": "https://localhost:8080/"
        },
        "outputId": "3d44a59b-7cd2-4412-f726-39dab40229e7"
      },
      "source": [
        "a = np.random.normal(40, 10, 10000)\n",
        "norm = pd.DataFrame({'nums':a})\n",
        "print(norm.skew(), norm.kurt(), sep='\\n\\n')"
      ],
      "execution_count": null,
      "outputs": [
        {
          "output_type": "stream",
          "text": [
            "nums    0.026388\n",
            "dtype: float64\n",
            "\n",
            "nums    0.066009\n",
            "dtype: float64\n"
          ],
          "name": "stdout"
        }
      ]
    },
    {
      "cell_type": "markdown",
      "metadata": {
        "id": "hThrTdSHyafr"
      },
      "source": [
        "#### Exercise 12: Given an array 'Y', Find the skewness of the data"
      ]
    },
    {
      "cell_type": "code",
      "metadata": {
        "id": "5zZ3JfpZyafs",
        "colab": {
          "base_uri": "https://localhost:8080/",
          "height": 283
        },
        "outputId": "c18b3f9f-04e9-4ab6-d9fe-887b780ec206"
      },
      "source": [
        "from scipy.stats import skew\n",
        "from matplotlib import pyplot as plt\n",
        "\n",
        "X = np.linspace( -5, 5, 1000 ) \n",
        "\n",
        "Y = 1./(np.sqrt(2.* np.pi)) * np.exp( -.5*(X)**2) \n",
        "\n",
        "plt.plot(X, Y)\n",
        "skew(Y)"
      ],
      "execution_count": null,
      "outputs": [
        {
          "output_type": "execute_result",
          "data": {
            "text/plain": [
              "1.1108237139164436"
            ]
          },
          "metadata": {
            "tags": []
          },
          "execution_count": 21
        },
        {
          "output_type": "display_data",
          "data": {
            "image/png": "[encoded data removed]",
            "text/plain": [
              "<Figure size 432x288 with 1 Axes>"
            ]
          },
          "metadata": {
            "tags": [],
            "needs_background": "light"
          }
        }
      ]
    }
  ]
}